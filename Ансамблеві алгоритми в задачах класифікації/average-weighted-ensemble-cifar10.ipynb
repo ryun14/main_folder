{
 "cells": [
  {
   "cell_type": "code",
   "execution_count": 1,
   "metadata": {
    "execution": {
     "iopub.execute_input": "2024-05-13T13:39:01.547181Z",
     "iopub.status.busy": "2024-05-13T13:39:01.546432Z",
     "iopub.status.idle": "2024-05-13T13:39:14.186160Z",
     "shell.execute_reply": "2024-05-13T13:39:14.184996Z",
     "shell.execute_reply.started": "2024-05-13T13:39:01.547145Z"
    }
   },
   "outputs": [
    {
     "name": "stderr",
     "output_type": "stream",
     "text": [
      "2024-05-13 13:39:04.990842: E external/local_xla/xla/stream_executor/cuda/cuda_dnn.cc:9261] Unable to register cuDNN factory: Attempting to register factory for plugin cuDNN when one has already been registered\n",
      "2024-05-13 13:39:04.990952: E external/local_xla/xla/stream_executor/cuda/cuda_fft.cc:607] Unable to register cuFFT factory: Attempting to register factory for plugin cuFFT when one has already been registered\n",
      "2024-05-13 13:39:05.106176: E external/local_xla/xla/stream_executor/cuda/cuda_blas.cc:1515] Unable to register cuBLAS factory: Attempting to register factory for plugin cuBLAS when one has already been registered\n"
     ]
    }
   ],
   "source": [
    "import pandas as pd\n",
    "import numpy as np\n",
    "import seaborn as sns\n",
    "import matplotlib.pyplot as plt\n",
    "import keras\n",
    "import tensorflow\n",
    "from tensorflow.keras import datasets\n",
    "from tensorflow.keras.preprocessing.image import ImageDataGenerator"
   ]
  },
  {
   "cell_type": "code",
   "execution_count": 2,
   "metadata": {
    "execution": {
     "iopub.execute_input": "2024-05-13T13:39:15.733560Z",
     "iopub.status.busy": "2024-05-13T13:39:15.732613Z",
     "iopub.status.idle": "2024-05-13T13:39:15.738161Z",
     "shell.execute_reply": "2024-05-13T13:39:15.737032Z",
     "shell.execute_reply.started": "2024-05-13T13:39:15.733529Z"
    }
   },
   "outputs": [],
   "source": [
    "labels = [\n",
    "    'airplane',\n",
    "'automobile',\n",
    "'bird',\n",
    "'cat',\n",
    "'deer',\n",
    "'dog',\n",
    "'frog',\n",
    "'horse',\n",
    "'ship',\n",
    "'truck'\n",
    "]"
   ]
  },
  {
   "cell_type": "code",
   "execution_count": 3,
   "metadata": {
    "execution": {
     "iopub.execute_input": "2024-05-13T13:39:16.864964Z",
     "iopub.status.busy": "2024-05-13T13:39:16.864582Z",
     "iopub.status.idle": "2024-05-13T13:39:16.869820Z",
     "shell.execute_reply": "2024-05-13T13:39:16.868786Z",
     "shell.execute_reply.started": "2024-05-13T13:39:16.864936Z"
    }
   },
   "outputs": [],
   "source": [
    "class_labels_cifar10 = {index: val for index, val in enumerate(labels)}"
   ]
  },
  {
   "cell_type": "code",
   "execution_count": 4,
   "metadata": {
    "execution": {
     "iopub.execute_input": "2024-05-13T13:39:20.769092Z",
     "iopub.status.busy": "2024-05-13T13:39:20.768729Z",
     "iopub.status.idle": "2024-05-13T13:39:36.487657Z",
     "shell.execute_reply": "2024-05-13T13:39:36.486817Z",
     "shell.execute_reply.started": "2024-05-13T13:39:20.769064Z"
    }
   },
   "outputs": [
    {
     "name": "stdout",
     "output_type": "stream",
     "text": [
      "Downloading data from https://www.cs.toronto.edu/~kriz/cifar-10-python.tar.gz\n",
      "\u001b[1m170498071/170498071\u001b[0m \u001b[32m━━━━━━━━━━━━━━━━━━━━\u001b[0m\u001b[37m\u001b[0m \u001b[1m13s\u001b[0m 0us/step\n"
     ]
    }
   ],
   "source": [
    "(train_images, train_labels), (test_images, test_labels) = datasets.cifar10.load_data() "
   ]
  },
  {
   "cell_type": "code",
   "execution_count": 5,
   "metadata": {
    "execution": {
     "iopub.execute_input": "2024-05-13T13:39:36.489429Z",
     "iopub.status.busy": "2024-05-13T13:39:36.489137Z",
     "iopub.status.idle": "2024-05-13T13:39:36.493532Z",
     "shell.execute_reply": "2024-05-13T13:39:36.492682Z",
     "shell.execute_reply.started": "2024-05-13T13:39:36.489404Z"
    }
   },
   "outputs": [],
   "source": [
    "bat_size = 32\n",
    "image_size = 32\n",
    "image_channel = 3\n",
    "\n"
   ]
  },
  {
   "cell_type": "code",
   "execution_count": 6,
   "metadata": {
    "execution": {
     "iopub.execute_input": "2024-05-13T13:39:36.494927Z",
     "iopub.status.busy": "2024-05-13T13:39:36.494659Z",
     "iopub.status.idle": "2024-05-13T13:39:36.614819Z",
     "shell.execute_reply": "2024-05-13T13:39:36.614000Z",
     "shell.execute_reply.started": "2024-05-13T13:39:36.494904Z"
    }
   },
   "outputs": [],
   "source": [
    "from sklearn.preprocessing import OneHotEncoder\n",
    "\n",
    "enc = OneHotEncoder()\n",
    "train_labels_ohe = enc.fit_transform(train_labels).toarray().astype(int)\n",
    "test_labels_ohe = enc.transform(test_labels).toarray().astype(int)"
   ]
  },
  {
   "cell_type": "code",
   "execution_count": 7,
   "metadata": {
    "execution": {
     "iopub.execute_input": "2024-05-13T13:39:36.617101Z",
     "iopub.status.busy": "2024-05-13T13:39:36.616814Z",
     "iopub.status.idle": "2024-05-13T13:39:36.704124Z",
     "shell.execute_reply": "2024-05-13T13:39:36.703118Z",
     "shell.execute_reply.started": "2024-05-13T13:39:36.617076Z"
    }
   },
   "outputs": [],
   "source": [
    "from sklearn.model_selection import train_test_split \n",
    "x_te, x_val, y_te, y_val = train_test_split(test_images, test_labels_ohe, test_size=0.3, random_state=21)"
   ]
  },
  {
   "cell_type": "code",
   "execution_count": 8,
   "metadata": {
    "execution": {
     "iopub.execute_input": "2024-05-13T13:39:36.705569Z",
     "iopub.status.busy": "2024-05-13T13:39:36.705270Z",
     "iopub.status.idle": "2024-05-13T13:39:36.710910Z",
     "shell.execute_reply": "2024-05-13T13:39:36.709873Z",
     "shell.execute_reply.started": "2024-05-13T13:39:36.705544Z"
    }
   },
   "outputs": [],
   "source": [
    "train_datagen = ImageDataGenerator(rescale=1./255,\n",
    "                                    rotation_range = 15,\n",
    "                                    horizontal_flip = True,\n",
    "                                    zoom_range = 0.2,\n",
    "                                    shear_range = 0.1,\n",
    "                                    fill_mode = 'reflect',\n",
    "                                    width_shift_range = 0.1,\n",
    "                                    height_shift_range = 0.1)\n",
    "\n",
    "test_datagen = ImageDataGenerator(rescale=1./255)"
   ]
  },
  {
   "cell_type": "code",
   "execution_count": 9,
   "metadata": {
    "execution": {
     "iopub.execute_input": "2024-05-13T13:39:36.713116Z",
     "iopub.status.busy": "2024-05-13T13:39:36.712284Z",
     "iopub.status.idle": "2024-05-13T13:39:36.899779Z",
     "shell.execute_reply": "2024-05-13T13:39:36.898769Z",
     "shell.execute_reply.started": "2024-05-13T13:39:36.713090Z"
    }
   },
   "outputs": [],
   "source": [
    "train_generator = train_datagen.flow(train_images, train_labels_ohe,\n",
    "                                                    batch_size = bat_size\n",
    "                                                   )\n",
    "val_generator = test_datagen.flow(x_val,  y_val,\n",
    "                                                 batch_size = bat_size,\n",
    "                                                 shuffle=False\n",
    "                                                )\n",
    "\n",
    "test_generator = test_datagen.flow(x_te,  y_te,\n",
    "                                                  batch_size = bat_size,\n",
    "                                                  shuffle=False\n",
    "                                                 )"
   ]
  },
  {
   "cell_type": "code",
   "execution_count": 10,
   "metadata": {
    "execution": {
     "iopub.execute_input": "2024-05-13T13:39:36.901368Z",
     "iopub.status.busy": "2024-05-13T13:39:36.901011Z",
     "iopub.status.idle": "2024-05-13T13:39:39.184583Z",
     "shell.execute_reply": "2024-05-13T13:39:39.183514Z",
     "shell.execute_reply.started": "2024-05-13T13:39:36.901336Z"
    }
   },
   "outputs": [],
   "source": [
    "from tensorflow.keras import applications\n",
    "\n",
    "resnet = applications.ResNet101(\n",
    "    include_top=True,\n",
    "    weights= None,\n",
    "    input_tensor=None,\n",
    "    input_shape= train_images.shape[1:],\n",
    "    classes=10,\n",
    "    classifier_activation='softmax'\n",
    ")"
   ]
  },
  {
   "cell_type": "code",
   "execution_count": 11,
   "metadata": {
    "execution": {
     "iopub.execute_input": "2024-05-13T13:39:39.186352Z",
     "iopub.status.busy": "2024-05-13T13:39:39.186070Z",
     "iopub.status.idle": "2024-05-13T13:39:39.201758Z",
     "shell.execute_reply": "2024-05-13T13:39:39.200848Z",
     "shell.execute_reply.started": "2024-05-13T13:39:39.186328Z"
    }
   },
   "outputs": [],
   "source": [
    "resnet.compile(loss='categorical_crossentropy',\n",
    "              optimizer='adam',\n",
    "              metrics=['acc'])"
   ]
  },
  {
   "cell_type": "code",
   "execution_count": 52,
   "metadata": {
    "execution": {
     "iopub.execute_input": "2024-05-13T17:25:20.601161Z",
     "iopub.status.busy": "2024-05-13T17:25:20.600512Z",
     "iopub.status.idle": "2024-05-13T17:32:32.715456Z",
     "shell.execute_reply": "2024-05-13T17:32:32.714522Z",
     "shell.execute_reply.started": "2024-05-13T17:25:20.601128Z"
    }
   },
   "outputs": [
    {
     "name": "stdout",
     "output_type": "stream",
     "text": [
      "Epoch 1/5\n",
      "\u001b[1m1563/1563\u001b[0m \u001b[32m━━━━━━━━━━━━━━━━━━━━\u001b[0m\u001b[37m\u001b[0m \u001b[1m86s\u001b[0m 55ms/step - acc: 0.8803 - loss: 0.3493 - val_acc: 0.7843 - val_loss: 0.7685\n",
      "Epoch 2/5\n",
      "\u001b[1m1563/1563\u001b[0m \u001b[32m━━━━━━━━━━━━━━━━━━━━\u001b[0m\u001b[37m\u001b[0m \u001b[1m86s\u001b[0m 55ms/step - acc: 0.8694 - loss: 0.3747 - val_acc: 0.6687 - val_loss: 1.6219\n",
      "Epoch 3/5\n",
      "\u001b[1m1563/1563\u001b[0m \u001b[32m━━━━━━━━━━━━━━━━━━━━\u001b[0m\u001b[37m\u001b[0m \u001b[1m86s\u001b[0m 55ms/step - acc: 0.7925 - loss: 0.6047 - val_acc: 0.8133 - val_loss: 1.2532\n",
      "Epoch 4/5\n",
      "\u001b[1m1563/1563\u001b[0m \u001b[32m━━━━━━━━━━━━━━━━━━━━\u001b[0m\u001b[37m\u001b[0m \u001b[1m86s\u001b[0m 55ms/step - acc: 0.8670 - loss: 0.3834 - val_acc: 0.8223 - val_loss: 1.5065\n",
      "Epoch 5/5\n",
      "\u001b[1m1563/1563\u001b[0m \u001b[32m━━━━━━━━━━━━━━━━━━━━\u001b[0m\u001b[37m\u001b[0m \u001b[1m87s\u001b[0m 55ms/step - acc: 0.8890 - loss: 0.3250 - val_acc: 0.8217 - val_loss: 1.3067\n"
     ]
    }
   ],
   "source": [
    "history_resnet = resnet.fit(train_generator, epochs=5, batch_size=32, validation_data = val_generator) # ~90 epochs"
   ]
  },
  {
   "cell_type": "code",
   "execution_count": 53,
   "metadata": {
    "execution": {
     "iopub.execute_input": "2024-05-13T17:32:37.068065Z",
     "iopub.status.busy": "2024-05-13T17:32:37.067698Z",
     "iopub.status.idle": "2024-05-13T17:32:40.418525Z",
     "shell.execute_reply": "2024-05-13T17:32:40.417683Z",
     "shell.execute_reply.started": "2024-05-13T17:32:37.068035Z"
    }
   },
   "outputs": [
    {
     "name": "stdout",
     "output_type": "stream",
     "text": [
      "\u001b[1m219/219\u001b[0m \u001b[32m━━━━━━━━━━━━━━━━━━━━\u001b[0m\u001b[37m\u001b[0m \u001b[1m3s\u001b[0m 15ms/step - acc: 0.8190 - loss: 1.3334\n",
      "desnet model, accuracy: 81.76%\n"
     ]
    }
   ],
   "source": [
    "loss, acc = resnet.evaluate(test_generator)\n",
    "print(\"desnet model, accuracy: {:5.2f}%\".format(100 * acc))"
   ]
  },
  {
   "cell_type": "code",
   "execution_count": 17,
   "metadata": {
    "execution": {
     "iopub.execute_input": "2024-05-13T15:23:25.850356Z",
     "iopub.status.busy": "2024-05-13T15:23:25.849711Z",
     "iopub.status.idle": "2024-05-13T15:23:26.281652Z",
     "shell.execute_reply": "2024-05-13T15:23:26.280836Z",
     "shell.execute_reply.started": "2024-05-13T15:23:25.850326Z"
    }
   },
   "outputs": [],
   "source": [
    "mobilenet = applications.MobileNet(\n",
    "    input_shape=train_images.shape[1:],\n",
    "    alpha=1.0,\n",
    "    depth_multiplier=1,\n",
    "    dropout=0.001,\n",
    "    include_top=True,\n",
    "    weights= None,\n",
    "    input_tensor=None,\n",
    "    pooling=None,\n",
    "    classes=10,\n",
    "    classifier_activation=\"softmax\",\n",
    "    \n",
    ")"
   ]
  },
  {
   "cell_type": "code",
   "execution_count": 18,
   "metadata": {
    "execution": {
     "iopub.execute_input": "2024-05-13T15:23:34.416737Z",
     "iopub.status.busy": "2024-05-13T15:23:34.416350Z",
     "iopub.status.idle": "2024-05-13T15:23:34.426160Z",
     "shell.execute_reply": "2024-05-13T15:23:34.425414Z",
     "shell.execute_reply.started": "2024-05-13T15:23:34.416707Z"
    }
   },
   "outputs": [],
   "source": [
    "mobilenet.compile(loss='categorical_crossentropy',\n",
    "              optimizer='adam',\n",
    "              metrics=['acc'])"
   ]
  },
  {
   "cell_type": "code",
   "execution_count": 35,
   "metadata": {
    "execution": {
     "iopub.execute_input": "2024-05-13T16:37:56.490051Z",
     "iopub.status.busy": "2024-05-13T16:37:56.489663Z",
     "iopub.status.idle": "2024-05-13T16:39:10.346294Z",
     "shell.execute_reply": "2024-05-13T16:39:10.345273Z",
     "shell.execute_reply.started": "2024-05-13T16:37:56.490019Z"
    }
   },
   "outputs": [
    {
     "name": "stdout",
     "output_type": "stream",
     "text": [
      "Epoch 1/2\n",
      "\u001b[1m1563/1563\u001b[0m \u001b[32m━━━━━━━━━━━━━━━━━━━━\u001b[0m\u001b[37m\u001b[0m \u001b[1m37s\u001b[0m 24ms/step - acc: 0.8807 - loss: 0.3398 - val_acc: 0.8380 - val_loss: 0.5035\n",
      "Epoch 2/2\n",
      "\u001b[1m1563/1563\u001b[0m \u001b[32m━━━━━━━━━━━━━━━━━━━━\u001b[0m\u001b[37m\u001b[0m \u001b[1m37s\u001b[0m 23ms/step - acc: 0.8848 - loss: 0.3397 - val_acc: 0.8573 - val_loss: 0.4334\n"
     ]
    }
   ],
   "source": [
    "history_mobilenet = mobilenet.fit(train_generator, epochs=2, batch_size=32, validation_data = val_generator) # ~90 epoch"
   ]
  },
  {
   "cell_type": "code",
   "execution_count": 36,
   "metadata": {
    "execution": {
     "iopub.execute_input": "2024-05-13T16:39:13.187266Z",
     "iopub.status.busy": "2024-05-13T16:39:13.186579Z",
     "iopub.status.idle": "2024-05-13T16:39:14.113257Z",
     "shell.execute_reply": "2024-05-13T16:39:14.112045Z",
     "shell.execute_reply.started": "2024-05-13T16:39:13.187235Z"
    }
   },
   "outputs": [
    {
     "name": "stdout",
     "output_type": "stream",
     "text": [
      "\u001b[1m219/219\u001b[0m \u001b[32m━━━━━━━━━━━━━━━━━━━━\u001b[0m\u001b[37m\u001b[0m \u001b[1m1s\u001b[0m 4ms/step - acc: 0.8499 - loss: 0.4718\n",
      "mobilenet model, accuracy: 85.01%\n"
     ]
    }
   ],
   "source": [
    "loss, acc = mobilenet.evaluate(test_generator)\n",
    "print(\"mobilenet model, accuracy: {:5.2f}%\".format(100 * acc))"
   ]
  },
  {
   "cell_type": "code",
   "execution_count": 60,
   "metadata": {
    "execution": {
     "iopub.execute_input": "2024-05-13T17:35:38.168033Z",
     "iopub.status.busy": "2024-05-13T17:35:38.167024Z",
     "iopub.status.idle": "2024-05-13T17:35:38.363269Z",
     "shell.execute_reply": "2024-05-13T17:35:38.362508Z",
     "shell.execute_reply.started": "2024-05-13T17:35:38.168000Z"
    }
   },
   "outputs": [],
   "source": [
    "from keras import Model, layers\n",
    "from tensorflow.keras.initializers import RandomNormal, Constant\n",
    "\n",
    "net = {}\n",
    "net['input'] = layers.Input((32, 32, 3))\n",
    "\n",
    "net['conv_1'] = layers.Conv2D(256, kernel_size=(3, 3), padding='same')(net['input'])\n",
    "net['batch_1'] = layers.BatchNormalization()(net['conv_1'])\n",
    "net['activ_1'] = layers.Activation('relu')(net['batch_1'])\n",
    "net['conv_2'] = layers.Conv2D(256, kernel_size=(3, 3), padding='same')(net['activ_1'])\n",
    "net['batch_2'] = layers.BatchNormalization()(net['conv_2'])\n",
    "net['activ_2'] = layers.Activation('relu')(net['batch_2'])\n",
    "net['pool_1'] = layers.MaxPooling2D(pool_size=(2,2))(net['activ_2'])\n",
    "net['dropout_1'] = layers.Dropout(0.2)(net['pool_1'])\n",
    "\n",
    "\n",
    "\n",
    "net['conv_3'] = layers.Conv2D(512, kernel_size=(3, 3), padding='same')(net['dropout_1'])\n",
    "net['batch_3'] = layers.BatchNormalization()(net['conv_3'])\n",
    "net['activ_3'] = layers.Activation('relu')(net['batch_3'])\n",
    "net['conv_4'] = layers.Conv2D(512, kernel_size=(3, 3), padding='same')(net['activ_3'])\n",
    "net['batch_4'] = layers.BatchNormalization()(net['conv_4'])\n",
    "net['activ_4'] = layers.Activation('relu')(net['batch_4'])\n",
    "net['pool_2'] = layers.MaxPooling2D(pool_size=(2,2))(net['activ_4'])\n",
    "net['dropout_2'] = layers.Dropout(0.2)(net['pool_2'])\n",
    "\n",
    "\n",
    "\n",
    "net['conv_5'] = layers.Conv2D(512, kernel_size=(3, 3), padding='same')(net['dropout_2'])\n",
    "net['batch_5'] = layers.BatchNormalization()(net['conv_5'])\n",
    "net['activ_5'] = layers.Activation('relu')(net['batch_5'])\n",
    "net['conv_5'] = layers.Conv2D(512, kernel_size=(3, 3), padding='same')(net['activ_5'])\n",
    "net['batch_6'] = layers.BatchNormalization()(net['conv_5'])\n",
    "net['activ_6'] = layers.Activation('relu')(net['batch_6'])\n",
    "net['pool_3'] = layers.MaxPooling2D(pool_size=(2,2))(net['activ_6'])\n",
    "net['dropout_3'] = layers.Dropout(0.2)(net['pool_3'])\n",
    "\n",
    "net['conv_7'] = layers.Conv2D(512, kernel_size=(3, 3), padding='same')(net['dropout_3'])\n",
    "net['batch_7'] = layers.BatchNormalization()(net['conv_7'])\n",
    "net['activ_7'] = layers.Activation('relu')(net['batch_7'])\n",
    "net['conv_8'] = layers.Conv2D(512, kernel_size=(3, 3), padding='same')(net['activ_7'])\n",
    "net['batch_8'] = layers.BatchNormalization()(net['conv_8'])\n",
    "net['activ_8'] = layers.Activation('relu')(net['batch_8'])\n",
    "net['pool_4'] = layers.MaxPooling2D(pool_size=(2,2))(net['activ_8'])\n",
    "net['dropout_4'] = layers.Dropout(0.2)(net['pool_4'])\n",
    "\n",
    "net['flat'] = layers.Flatten()(net['dropout_4'])\n",
    "net['dense_1'] = layers.Dense(1024)(net['flat'])\n",
    "net['activ_7'] = layers.Activation('relu')(net['dense_1'])\n",
    "net['dropout_4'] = layers.Dropout(0.2)(net['activ_7'])\n",
    "net['batch_7'] = layers.BatchNormalization()(net['dropout_4'])\n",
    "net['output'] = layers.Dense(10, activation='softmax')(net['batch_7'])\n",
    "\n",
    "model = Model(net['input'], net['output'])"
   ]
  },
  {
   "cell_type": "code",
   "execution_count": 61,
   "metadata": {
    "execution": {
     "iopub.execute_input": "2024-05-13T17:35:38.451239Z",
     "iopub.status.busy": "2024-05-13T17:35:38.450932Z",
     "iopub.status.idle": "2024-05-13T17:35:38.459073Z",
     "shell.execute_reply": "2024-05-13T17:35:38.458296Z",
     "shell.execute_reply.started": "2024-05-13T17:35:38.451211Z"
    }
   },
   "outputs": [],
   "source": [
    "model.compile(loss='categorical_crossentropy',\n",
    "              optimizer='adam',\n",
    "              metrics=['acc'])"
   ]
  },
  {
   "cell_type": "code",
   "execution_count": 62,
   "metadata": {
    "execution": {
     "iopub.execute_input": "2024-05-13T17:35:39.330204Z",
     "iopub.status.busy": "2024-05-13T17:35:39.329834Z",
     "iopub.status.idle": "2024-05-13T17:46:39.386122Z",
     "shell.execute_reply": "2024-05-13T17:46:39.385287Z",
     "shell.execute_reply.started": "2024-05-13T17:35:39.330175Z"
    }
   },
   "outputs": [
    {
     "name": "stdout",
     "output_type": "stream",
     "text": [
      "Epoch 1/12\n",
      "\u001b[1m1563/1563\u001b[0m \u001b[32m━━━━━━━━━━━━━━━━━━━━\u001b[0m\u001b[37m\u001b[0m \u001b[1m81s\u001b[0m 41ms/step - acc: 0.3227 - loss: 1.9101 - val_acc: 0.5390 - val_loss: 1.4087\n",
      "Epoch 2/12\n",
      "\u001b[1m1563/1563\u001b[0m \u001b[32m━━━━━━━━━━━━━━━━━━━━\u001b[0m\u001b[37m\u001b[0m \u001b[1m53s\u001b[0m 34ms/step - acc: 0.5725 - loss: 1.2014 - val_acc: 0.6267 - val_loss: 1.2029\n",
      "Epoch 3/12\n",
      "\u001b[1m1563/1563\u001b[0m \u001b[32m━━━━━━━━━━━━━━━━━━━━\u001b[0m\u001b[37m\u001b[0m \u001b[1m53s\u001b[0m 34ms/step - acc: 0.6797 - loss: 0.9285 - val_acc: 0.7310 - val_loss: 0.7552\n",
      "Epoch 4/12\n",
      "\u001b[1m1563/1563\u001b[0m \u001b[32m━━━━━━━━━━━━━━━━━━━━\u001b[0m\u001b[37m\u001b[0m \u001b[1m53s\u001b[0m 34ms/step - acc: 0.7265 - loss: 0.7992 - val_acc: 0.6237 - val_loss: 1.2223\n",
      "Epoch 5/12\n",
      "\u001b[1m1563/1563\u001b[0m \u001b[32m━━━━━━━━━━━━━━━━━━━━\u001b[0m\u001b[37m\u001b[0m \u001b[1m53s\u001b[0m 34ms/step - acc: 0.7588 - loss: 0.7063 - val_acc: 0.7443 - val_loss: 0.8123\n",
      "Epoch 6/12\n",
      "\u001b[1m1563/1563\u001b[0m \u001b[32m━━━━━━━━━━━━━━━━━━━━\u001b[0m\u001b[37m\u001b[0m \u001b[1m53s\u001b[0m 34ms/step - acc: 0.7865 - loss: 0.6290 - val_acc: 0.8203 - val_loss: 0.5158\n",
      "Epoch 7/12\n",
      "\u001b[1m1563/1563\u001b[0m \u001b[32m━━━━━━━━━━━━━━━━━━━━\u001b[0m\u001b[37m\u001b[0m \u001b[1m53s\u001b[0m 34ms/step - acc: 0.8085 - loss: 0.5636 - val_acc: 0.7893 - val_loss: 0.6747\n",
      "Epoch 8/12\n",
      "\u001b[1m1563/1563\u001b[0m \u001b[32m━━━━━━━━━━━━━━━━━━━━\u001b[0m\u001b[37m\u001b[0m \u001b[1m53s\u001b[0m 34ms/step - acc: 0.8199 - loss: 0.5248 - val_acc: 0.8180 - val_loss: 0.5645\n",
      "Epoch 9/12\n",
      "\u001b[1m1563/1563\u001b[0m \u001b[32m━━━━━━━━━━━━━━━━━━━━\u001b[0m\u001b[37m\u001b[0m \u001b[1m53s\u001b[0m 34ms/step - acc: 0.8383 - loss: 0.4749 - val_acc: 0.8410 - val_loss: 0.4538\n",
      "Epoch 10/12\n",
      "\u001b[1m1563/1563\u001b[0m \u001b[32m━━━━━━━━━━━━━━━━━━━━\u001b[0m\u001b[37m\u001b[0m \u001b[1m53s\u001b[0m 34ms/step - acc: 0.8502 - loss: 0.4390 - val_acc: 0.8497 - val_loss: 0.4344\n",
      "Epoch 11/12\n",
      "\u001b[1m1563/1563\u001b[0m \u001b[32m━━━━━━━━━━━━━━━━━━━━\u001b[0m\u001b[37m\u001b[0m \u001b[1m53s\u001b[0m 34ms/step - acc: 0.8586 - loss: 0.4214 - val_acc: 0.8543 - val_loss: 0.4496\n",
      "Epoch 12/12\n",
      "\u001b[1m1563/1563\u001b[0m \u001b[32m━━━━━━━━━━━━━━━━━━━━\u001b[0m\u001b[37m\u001b[0m \u001b[1m53s\u001b[0m 34ms/step - acc: 0.8705 - loss: 0.3738 - val_acc: 0.8833 - val_loss: 0.3525\n"
     ]
    }
   ],
   "source": [
    "history_model = model.fit(train_generator, epochs=12, batch_size=32, validation_data = val_generator) # 12 epochs"
   ]
  },
  {
   "cell_type": "code",
   "execution_count": 63,
   "metadata": {
    "execution": {
     "iopub.execute_input": "2024-05-13T17:46:47.155492Z",
     "iopub.status.busy": "2024-05-13T17:46:47.155146Z",
     "iopub.status.idle": "2024-05-13T17:46:52.313073Z",
     "shell.execute_reply": "2024-05-13T17:46:52.312106Z",
     "shell.execute_reply.started": "2024-05-13T17:46:47.155464Z"
    }
   },
   "outputs": [
    {
     "name": "stdout",
     "output_type": "stream",
     "text": [
      "\u001b[1m219/219\u001b[0m \u001b[32m━━━━━━━━━━━━━━━━━━━━\u001b[0m\u001b[37m\u001b[0m \u001b[1m3s\u001b[0m 12ms/step - acc: 0.8652 - loss: 0.4033\n",
      "Model, accuracy: 87.11%\n"
     ]
    }
   ],
   "source": [
    "loss, acc = model.evaluate(test_generator)\n",
    "print(\"Model, accuracy: {:5.2f}%\".format(100 * acc))"
   ]
  },
  {
   "cell_type": "code",
   "execution_count": null,
   "metadata": {},
   "outputs": [],
   "source": []
  },
  {
   "cell_type": "markdown",
   "metadata": {},
   "source": [
    "# Average ensemble"
   ]
  },
  {
   "cell_type": "code",
   "execution_count": 100,
   "metadata": {
    "execution": {
     "iopub.execute_input": "2024-05-13T17:53:31.728245Z",
     "iopub.status.busy": "2024-05-13T17:53:31.727483Z",
     "iopub.status.idle": "2024-05-13T17:53:31.743363Z",
     "shell.execute_reply": "2024-05-13T17:53:31.742470Z",
     "shell.execute_reply.started": "2024-05-13T17:53:31.728213Z"
    }
   },
   "outputs": [],
   "source": [
    "from tensorflow.keras import layers, Model\n",
    "import itertools\n",
    "\n",
    "\n",
    "models = [resnet, mobilenet, model]\n",
    "model_input = layers.Input(shape=(32, 32, 3))\n",
    "model_outputs = [model(model_input) for model in models]\n",
    "flattened_outputs = model_outputs\n",
    "ensemble_output = layers.Average()(flattened_outputs)\n",
    "ensemble_model = Model(inputs=model_input, outputs=ensemble_output)"
   ]
  },
  {
   "cell_type": "code",
   "execution_count": 101,
   "metadata": {
    "execution": {
     "iopub.execute_input": "2024-05-13T17:53:33.193458Z",
     "iopub.status.busy": "2024-05-13T17:53:33.192728Z",
     "iopub.status.idle": "2024-05-13T17:53:33.204096Z",
     "shell.execute_reply": "2024-05-13T17:53:33.203189Z",
     "shell.execute_reply.started": "2024-05-13T17:53:33.193429Z"
    }
   },
   "outputs": [],
   "source": [
    "ensemble_model.compile(loss='categorical_crossentropy',\n",
    "              optimizer='adam',\n",
    "              metrics=['acc'])"
   ]
  },
  {
   "cell_type": "code",
   "execution_count": 102,
   "metadata": {
    "execution": {
     "iopub.execute_input": "2024-05-13T17:53:33.543181Z",
     "iopub.status.busy": "2024-05-13T17:53:33.542492Z",
     "iopub.status.idle": "2024-05-13T17:53:55.719419Z",
     "shell.execute_reply": "2024-05-13T17:53:55.718468Z",
     "shell.execute_reply.started": "2024-05-13T17:53:33.543147Z"
    }
   },
   "outputs": [
    {
     "name": "stdout",
     "output_type": "stream",
     "text": [
      "\u001b[1m219/219\u001b[0m \u001b[32m━━━━━━━━━━━━━━━━━━━━\u001b[0m\u001b[37m\u001b[0m \u001b[1m22s\u001b[0m 47ms/step - acc: 0.8851 - loss: 0.3495\n",
      "Average_ensemble, accuracy: 88.69%\n"
     ]
    }
   ],
   "source": [
    "loss, acc = ensemble_model.evaluate(test_generator)\n",
    "print(\"Average_ensemble, accuracy: {:5.2f}%\".format(100 * acc))"
   ]
  },
  {
   "cell_type": "code",
   "execution_count": null,
   "metadata": {},
   "outputs": [],
   "source": []
  },
  {
   "cell_type": "code",
   "execution_count": null,
   "metadata": {},
   "outputs": [],
   "source": []
  },
  {
   "cell_type": "code",
   "execution_count": null,
   "metadata": {},
   "outputs": [],
   "source": []
  },
  {
   "cell_type": "markdown",
   "metadata": {},
   "source": [
    "# Weighted ensemble"
   ]
  },
  {
   "cell_type": "code",
   "execution_count": 103,
   "metadata": {
    "execution": {
     "iopub.execute_input": "2024-05-13T17:54:02.622968Z",
     "iopub.status.busy": "2024-05-13T17:54:02.622576Z",
     "iopub.status.idle": "2024-05-13T17:54:02.629096Z",
     "shell.execute_reply": "2024-05-13T17:54:02.628106Z",
     "shell.execute_reply.started": "2024-05-13T17:54:02.622935Z"
    }
   },
   "outputs": [],
   "source": [
    "class WeightedAverageLayer(tensorflow.keras.layers.Layer):\n",
    "    def __init__(self, w1, w2, w3, **kwargs):\n",
    "        super(WeightedAverageLayer, self).__init__(**kwargs)\n",
    "        self.w1 = w1\n",
    "        self.w2 = w2\n",
    "        self.w3 = w3\n",
    "\n",
    "    def call(self, inputs):\n",
    "        return self.w1 * inputs[0] + self.w2 * inputs[1] + self.w3 * inputs[2]"
   ]
  },
  {
   "cell_type": "code",
   "execution_count": 121,
   "metadata": {
    "execution": {
     "iopub.execute_input": "2024-05-13T17:58:12.144778Z",
     "iopub.status.busy": "2024-05-13T17:58:12.144392Z",
     "iopub.status.idle": "2024-05-13T17:58:12.168412Z",
     "shell.execute_reply": "2024-05-13T17:58:12.167638Z",
     "shell.execute_reply.started": "2024-05-13T17:58:12.144748Z"
    }
   },
   "outputs": [],
   "source": [
    "models = [resnet, mobilenet, model]\n",
    "model_input = layers.Input(shape=(32, 32, 3))\n",
    "model_outputs = [model(model_input) for model in models]\n",
    "flattened_outputs = model_outputs\n",
    "ensemble_output_w = WeightedAverageLayer(2/12, 3/12, 7/12)(flattened_outputs)\n",
    "ensemble_model_w = Model(inputs=model_input, outputs=ensemble_output_w)"
   ]
  },
  {
   "cell_type": "code",
   "execution_count": 122,
   "metadata": {
    "execution": {
     "iopub.execute_input": "2024-05-13T17:58:12.417503Z",
     "iopub.status.busy": "2024-05-13T17:58:12.416738Z",
     "iopub.status.idle": "2024-05-13T17:58:12.427549Z",
     "shell.execute_reply": "2024-05-13T17:58:12.426666Z",
     "shell.execute_reply.started": "2024-05-13T17:58:12.417468Z"
    }
   },
   "outputs": [],
   "source": [
    "ensemble_model_w.compile(loss='categorical_crossentropy',\n",
    "              optimizer='adam',\n",
    "              metrics=['acc'])"
   ]
  },
  {
   "cell_type": "code",
   "execution_count": 123,
   "metadata": {
    "execution": {
     "iopub.execute_input": "2024-05-13T17:58:12.707558Z",
     "iopub.status.busy": "2024-05-13T17:58:12.707209Z",
     "iopub.status.idle": "2024-05-13T17:58:35.215028Z",
     "shell.execute_reply": "2024-05-13T17:58:35.214122Z",
     "shell.execute_reply.started": "2024-05-13T17:58:12.707531Z"
    }
   },
   "outputs": [
    {
     "name": "stdout",
     "output_type": "stream",
     "text": [
      "\u001b[1m219/219\u001b[0m \u001b[32m━━━━━━━━━━━━━━━━━━━━\u001b[0m\u001b[37m\u001b[0m \u001b[1m22s\u001b[0m 48ms/step - acc: 0.8845 - loss: 0.3379\n",
      "Weighted_ensemble, accuracy: 88.87%\n"
     ]
    }
   ],
   "source": [
    "print(\"Weighted_ensemble, accuracy: {:5.2f}%\".format(100 * ensemble_model_w.evaluate(test_generator)[1]))"
   ]
  },
  {
   "cell_type": "markdown",
   "metadata": {},
   "source": [
    "### Average_ensemble == 88.69% < 88.87% Weighted_ensemble"
   ]
  },
  {
   "cell_type": "code",
   "execution_count": 107,
   "metadata": {
    "execution": {
     "iopub.execute_input": "2024-05-13T17:55:03.071881Z",
     "iopub.status.busy": "2024-05-13T17:55:03.071498Z",
     "iopub.status.idle": "2024-05-13T17:55:07.590119Z",
     "shell.execute_reply": "2024-05-13T17:55:07.589087Z",
     "shell.execute_reply.started": "2024-05-13T17:55:03.071850Z"
    }
   },
   "outputs": [],
   "source": [
    "from tensorflow.keras.models import load_model\n",
    "\n",
    "resnet.save('/kaggle/working/resnet_cifar10_a_w.hdf5')\n",
    "resnet.save('/kaggle/working/resnet_cifar10_a_w.h5')\n",
    "\n",
    "mobilenet.save('/kaggle/working/mobilenet_cifar10_a_w.hdf5')\n",
    "mobilenet.save('/kaggle/working/mobilenet_cifar10_a_w.h5')\n",
    "\n",
    "model.save('/kaggle/working/model_cifar10_a_w.hdf5')\n",
    "model.save('/kaggle/working/model_cifar10_a_w.h5')"
   ]
  },
  {
   "cell_type": "code",
   "execution_count": null,
   "metadata": {},
   "outputs": [],
   "source": []
  },
  {
   "cell_type": "code",
   "execution_count": null,
   "metadata": {},
   "outputs": [],
   "source": []
  },
  {
   "cell_type": "code",
   "execution_count": null,
   "metadata": {},
   "outputs": [],
   "source": []
  }
 ],
 "metadata": {
  "kaggle": {
   "accelerator": "gpu",
   "dataSources": [],
   "isGpuEnabled": true,
   "isInternetEnabled": true,
   "language": "python",
   "sourceType": "notebook"
  },
  "kernelspec": {
   "display_name": "Python 3 (ipykernel)",
   "language": "python",
   "name": "python3"
  },
  "language_info": {
   "codemirror_mode": {
    "name": "ipython",
    "version": 3
   },
   "file_extension": ".py",
   "mimetype": "text/x-python",
   "name": "python",
   "nbconvert_exporter": "python",
   "pygments_lexer": "ipython3",
   "version": "3.12.2"
  }
 },
 "nbformat": 4,
 "nbformat_minor": 4
}
